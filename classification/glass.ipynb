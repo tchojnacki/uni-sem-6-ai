{
 "cells": [
  {
   "cell_type": "code",
   "execution_count": null,
   "metadata": {},
   "outputs": [],
   "source": [
    "import math as math\n",
    "import numpy as np\n",
    "import pandas as pd\n",
    "import scipy.stats as stats\n",
    "import matplotlib.pyplot as plt\n",
    "import seaborn as sns\n",
    "\n",
    "from sklearn.model_selection import train_test_split, GridSearchCV\n",
    "from sklearn.pipeline import Pipeline, make_pipeline\n",
    "from sklearn.impute import SimpleImputer, KNNImputer\n",
    "from sklearn.feature_selection import VarianceThreshold, SelectKBest\n",
    "from sklearn.preprocessing import StandardScaler, Normalizer, KBinsDiscretizer, FunctionTransformer, RobustScaler, PowerTransformer, QuantileTransformer\n",
    "from sklearn.decomposition import PCA\n",
    "from sklearn.naive_bayes import GaussianNB\n",
    "from sklearn.tree import DecisionTreeClassifier, plot_tree\n",
    "from sklearn.svm import LinearSVC, SVC\n",
    "from sklearn.neighbors import KNeighborsClassifier\n",
    "from sklearn.ensemble import RandomForestClassifier\n",
    "from sklearn.metrics import accuracy_score, confusion_matrix, classification_report, ConfusionMatrixDisplay"
   ]
  },
  {
   "cell_type": "code",
   "execution_count": null,
   "metadata": {},
   "outputs": [],
   "source": [
    "data_cols = [\"RI\", \"Na\", \"Mg\", \"Al\", \"Si\", \"K\", \"Ca\", \"Ba\", \"Fe\"]\n",
    "target_col = \"class\"\n",
    "col_names = [\"id\", *data_cols, target_col]\n",
    "\n",
    "file_path = \"../data/glass.data\"\n",
    "dataset = pd.read_csv(file_path, names=col_names)"
   ]
  },
  {
   "attachments": {},
   "cell_type": "markdown",
   "metadata": {},
   "source": [
    "# Exploration"
   ]
  },
  {
   "cell_type": "code",
   "execution_count": null,
   "metadata": {},
   "outputs": [],
   "source": [
    "dataset.shape"
   ]
  },
  {
   "cell_type": "code",
   "execution_count": null,
   "metadata": {},
   "outputs": [],
   "source": [
    "dataset.head(10)"
   ]
  },
  {
   "cell_type": "code",
   "execution_count": null,
   "metadata": {},
   "outputs": [],
   "source": [
    "dataset.info()"
   ]
  },
  {
   "cell_type": "code",
   "execution_count": null,
   "metadata": {},
   "outputs": [],
   "source": [
    "dataset.describe()"
   ]
  },
  {
   "cell_type": "code",
   "execution_count": null,
   "metadata": {},
   "outputs": [],
   "source": [
    "dataset[target_col].value_counts()"
   ]
  },
  {
   "cell_type": "code",
   "execution_count": null,
   "metadata": {},
   "outputs": [],
   "source": [
    "dataset[data_cols].plot(kind=\"box\", subplots=True, layout=(3, 3), sharex=False, sharey=False)\n",
    "plt.tight_layout()\n",
    "plt.show()"
   ]
  },
  {
   "cell_type": "code",
   "execution_count": null,
   "metadata": {},
   "outputs": [],
   "source": [
    "pd.plotting.scatter_matrix(dataset[data_cols])\n",
    "plt.show()"
   ]
  },
  {
   "cell_type": "code",
   "execution_count": null,
   "metadata": {},
   "outputs": [],
   "source": [
    "sns.heatmap(dataset[data_cols].corr(), annot=True, fmt=\".2f\")"
   ]
  },
  {
   "cell_type": "code",
   "execution_count": null,
   "metadata": {},
   "outputs": [],
   "source": [
    "melted = dataset[(np.abs(stats.zscore(dataset)) < 3).all(axis=1)]\n",
    "melted = pd.melt(melted, target_col, data_cols)\n",
    "sns.FacetGrid(\n",
    "    melted,\n",
    "    col=\"variable\", hue=target_col, col_wrap=3,\n",
    "    sharex=False, sharey=False\n",
    ").map(sns.kdeplot, \"value\", fill=True, warn_singular=False).add_legend()"
   ]
  },
  {
   "attachments": {},
   "cell_type": "markdown",
   "metadata": {},
   "source": [
    "# Preprocessing"
   ]
  },
  {
   "cell_type": "code",
   "execution_count": null,
   "metadata": {},
   "outputs": [],
   "source": [
    "rng = np.random.RandomState(1)"
   ]
  },
  {
   "cell_type": "code",
   "execution_count": null,
   "metadata": {},
   "outputs": [],
   "source": [
    "X_full = dataset[data_cols]\n",
    "Y = dataset[target_col]"
   ]
  },
  {
   "cell_type": "code",
   "execution_count": null,
   "metadata": {},
   "outputs": [],
   "source": [
    "missing_ratio = 0.05\n",
    "X = X_full.mask(rng.random(X_full.shape) < missing_ratio)\n",
    "X.info()"
   ]
  },
  {
   "cell_type": "code",
   "execution_count": null,
   "metadata": {},
   "outputs": [],
   "source": [
    "test_size = 0.3\n",
    "X_train, X_test, Y_train, Y_test = train_test_split(X, Y, test_size=test_size, stratify=Y, random_state=rng)\n",
    "\n",
    "Y_test.value_counts()"
   ]
  },
  {
   "cell_type": "code",
   "execution_count": null,
   "metadata": {},
   "outputs": [],
   "source": [
    "imputers = {\n",
    "    \"KNN-1\": KNNImputer(n_neighbors=1),\n",
    "    \"KNN-3\": KNNImputer(n_neighbors=3),\n",
    "    \"MEAN\": SimpleImputer(strategy=\"mean\"),\n",
    "    \"MEDIAN\": SimpleImputer(strategy=\"median\")\n",
    "}"
   ]
  },
  {
   "cell_type": "code",
   "execution_count": null,
   "metadata": {},
   "outputs": [],
   "source": [
    "transformers = {\n",
    "    \"PASSTHROUGH\": \"passthrough\",\n",
    "    \"SCALE\": StandardScaler(),\n",
    "    \"NORMALIZE\": Normalizer(),\n",
    "    \"DISCRETIZE-3\": KBinsDiscretizer(n_bins=3, encode=\"onehot-dense\"),\n",
    "    \"VAR-THRESHOLD-0.5\": VarianceThreshold(threshold=0.5),\n",
    "    \"SELECT-3-BEST\": SelectKBest(k=3),\n",
    "    \"PCA\": PCA(random_state=rng),\n",
    "    \"ROBUST\": RobustScaler(),\n",
    "    \"POWER\": PowerTransformer(),\n",
    "    \"QUANTILE-UNIFORM\": QuantileTransformer(n_quantiles=50, output_distribution=\"uniform\", random_state=rng),\n",
    "    \"QUANTILE-NORMAL\": QuantileTransformer(n_quantiles=50, output_distribution=\"normal\", random_state=rng)\n",
    "}"
   ]
  },
  {
   "cell_type": "code",
   "execution_count": null,
   "metadata": {},
   "outputs": [],
   "source": [
    "sns.FacetGrid(\n",
    "    pd.concat(\n",
    "        pd.DataFrame(\n",
    "            make_pipeline(transformers[n])\n",
    "                .fit_transform(dataset[[\"Al\", \"Ca\"]].to_numpy(), dataset[target_col]),\n",
    "            columns=[\"Al\", \"Ca\"]\n",
    "        ).assign(**{\"transformer\": n, \"class\": dataset[target_col]})\n",
    "        for n in [\"PASSTHROUGH\", \"SCALE\", \"NORMALIZE\", \"ROBUST\", \"QUANTILE-UNIFORM\", \"QUANTILE-NORMAL\"]\n",
    "    ), col=\"transformer\", col_wrap=3, sharex=False, sharey=False\n",
    ").map_dataframe(sns.scatterplot, x=\"Al\", y=\"Ca\", hue=\"class\", palette=\"bright\").add_legend()"
   ]
  },
  {
   "attachments": {},
   "cell_type": "markdown",
   "metadata": {},
   "source": [
    "# Classification"
   ]
  },
  {
   "cell_type": "code",
   "execution_count": null,
   "metadata": {},
   "outputs": [],
   "source": [
    "classifiers = {\n",
    "    \"NAIVE-BAYES-1e-9\": GaussianNB(var_smoothing=1e-9),\n",
    "    \"NAIVE-BAYES-1e-6\": GaussianNB(var_smoothing=1e-6),\n",
    "    \"NAIVE-BAYES-1e-3\": GaussianNB(var_smoothing=1e-3),\n",
    "    \"DECISION-TREE-2-GINI\": DecisionTreeClassifier(max_depth=2, criterion=\"gini\", random_state=rng),\n",
    "    \"DECISION-TREE-10-GINI\": DecisionTreeClassifier(max_depth=10, criterion=\"gini\", random_state=rng),\n",
    "    \"DECISION-TREE-2-ENTROPY\": DecisionTreeClassifier(max_depth=2, criterion=\"entropy\", random_state=rng),\n",
    "    \"DECISION-TREE-10-ENTROPY\": DecisionTreeClassifier(max_depth=10, criterion=\"entropy\", random_state=rng),\n",
    "    \"KNN-3\": KNeighborsClassifier(n_neighbors=3),\n",
    "    \"SVC-LINEAR\": LinearSVC(random_state=rng),\n",
    "    \"SVC-RBF\": SVC(gamma=\"auto\", random_state=rng),\n",
    "    \"RANDOM-FOREST\": RandomForestClassifier(random_state=rng)\n",
    "}"
   ]
  },
  {
   "cell_type": "code",
   "execution_count": null,
   "metadata": {},
   "outputs": [],
   "source": [
    "search_pipeline = Pipeline([\n",
    "    (\"imputer\", \"passthrough\"),\n",
    "    (\"transformer\", \"passthrough\"),\n",
    "    (\"classifier\", next(iter(classifiers.values())))\n",
    "])"
   ]
  },
  {
   "cell_type": "code",
   "execution_count": null,
   "metadata": {},
   "outputs": [],
   "source": [
    "tree_classifier = make_pipeline(imputers[\"MEAN\"], classifiers[\"DECISION-TREE-10-ENTROPY\"])\n",
    "tree_classifier.fit(X_train, Y_train)\n",
    "plot_tree(tree_classifier.named_steps[\"decisiontreeclassifier\"])\n",
    "plt.show()"
   ]
  },
  {
   "attachments": {},
   "cell_type": "markdown",
   "metadata": {},
   "source": [
    "# Metrics"
   ]
  },
  {
   "cell_type": "code",
   "execution_count": null,
   "metadata": {},
   "outputs": [],
   "source": [
    "grid_search = GridSearchCV(search_pipeline, {\n",
    "    \"imputer\": list(imputers.values()),\n",
    "    \"transformer\": list(transformers.values()),\n",
    "    \"classifier\": list(classifiers.values())\n",
    "}, n_jobs=-1)\n",
    "\n",
    "grid_search.fit(X_train, Y_train)\n",
    "\n",
    "print(grid_search.best_score_)\n",
    "best_pipeline = grid_search.best_estimator_\n",
    "best_pipeline"
   ]
  },
  {
   "cell_type": "code",
   "execution_count": null,
   "metadata": {},
   "outputs": [],
   "source": [
    "def lookup(what, where):\n",
    "    match where:\n",
    "        case \"imputer\":\n",
    "            d = imputers\n",
    "        case \"transformer\":\n",
    "            d = transformers\n",
    "        case \"classifier\":\n",
    "            d = classifiers\n",
    "    return next(k for k in d if d[k] == what)\n",
    "\n",
    "res = grid_search.cv_results_\n",
    "for i, p in enumerate(grid_search.best_params_.keys()):\n",
    "    x, y, std = zip(*sorted([\n",
    "        max([\n",
    "            (lookup(param, p), entry[1], entry[2])\n",
    "            for entry in zip(res[\"params\"], res[\"mean_test_score\"], res[\"std_test_score\"])\n",
    "            if entry[0][p] == param\n",
    "        ], key=lambda x: x[1])\n",
    "        for param in grid_search.param_grid[p]\n",
    "    ], key=lambda x: x[1]))\n",
    "\n",
    "    ax = plt.axes()\n",
    "    ax.barh(x, y, xerr=std)\n",
    "    ax.set_xlabel(p)\n",
    "    plt.show()"
   ]
  },
  {
   "attachments": {},
   "cell_type": "markdown",
   "metadata": {},
   "source": [
    "# Final test"
   ]
  },
  {
   "cell_type": "code",
   "execution_count": null,
   "metadata": {},
   "outputs": [],
   "source": [
    "final_grid = GridSearchCV(\n",
    "    make_pipeline(\n",
    "        KNNImputer(n_neighbors=1),\n",
    "        QuantileTransformer(random_state=rng),\n",
    "        RandomForestClassifier(random_state=rng)\n",
    "    ),\n",
    "    {\n",
    "        \"quantiletransformer__n_quantiles\": np.arange(1, 50, 5),\n",
    "        \"randomforestclassifier__n_estimators\": np.arange(1, 150, 5)\n",
    "    },\n",
    "    n_jobs=-1\n",
    ")\n",
    "\n",
    "final_grid.fit(X_train, Y_train)\n",
    "print(final_grid.best_score_)\n",
    "final_estimator = final_grid.best_estimator_\n",
    "final_estimator"
   ]
  },
  {
   "cell_type": "code",
   "execution_count": null,
   "metadata": {},
   "outputs": [],
   "source": [
    "sns.lineplot(data=pd.DataFrame({\n",
    "    \"n_estimators\": final_grid.cv_results_[\"param_randomforestclassifier__n_estimators\"],\n",
    "    \"score\": final_grid.cv_results_[\"mean_test_score\"]\n",
    "}), x=\"n_estimators\", y=\"score\", errorbar=\"se\")"
   ]
  },
  {
   "cell_type": "code",
   "execution_count": null,
   "metadata": {},
   "outputs": [],
   "source": [
    "sns.lineplot(data=pd.DataFrame({\n",
    "    \"n_quantiles\": final_grid.cv_results_[\"param_quantiletransformer__n_quantiles\"],\n",
    "    \"score\": final_grid.cv_results_[\"mean_test_score\"]\n",
    "}), x=\"n_quantiles\", y=\"score\", errorbar=\"se\")"
   ]
  },
  {
   "cell_type": "code",
   "execution_count": null,
   "metadata": {},
   "outputs": [],
   "source": [
    "final_estimator.fit(X_train, Y_train)\n",
    "predictions = final_estimator.predict(X_test)\n",
    "ConfusionMatrixDisplay.from_predictions(Y_test, predictions)\n",
    "plt.show()\n",
    "print(accuracy_score(Y_test, predictions))\n",
    "print(classification_report(Y_test, predictions))"
   ]
  },
  {
   "attachments": {},
   "cell_type": "markdown",
   "metadata": {},
   "source": [
    "### Data without missing values"
   ]
  },
  {
   "cell_type": "code",
   "execution_count": null,
   "metadata": {},
   "outputs": [],
   "source": [
    "Xf_train, Xf_test, Yf_train, Yf_test = train_test_split(X_full, Y, test_size=test_size, stratify=Y, random_state=rng)\n",
    "\n",
    "final_estimator.fit(Xf_train, Yf_train)\n",
    "predictions = final_estimator.predict(Xf_test)\n",
    "ConfusionMatrixDisplay.from_predictions(Yf_test, predictions)\n",
    "plt.show()\n",
    "print(accuracy_score(Yf_test, predictions))\n",
    "print(classification_report(Yf_test, predictions))"
   ]
  }
 ],
 "metadata": {
  "kernelspec": {
   "display_name": "Python 3",
   "language": "python",
   "name": "python3"
  },
  "language_info": {
   "codemirror_mode": {
    "name": "ipython",
    "version": 3
   },
   "file_extension": ".py",
   "mimetype": "text/x-python",
   "name": "python",
   "nbconvert_exporter": "python",
   "pygments_lexer": "ipython3",
   "version": "3.11.3"
  }
 },
 "nbformat": 4,
 "nbformat_minor": 2
}
